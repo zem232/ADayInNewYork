{
 "cells": [
  {
   "cell_type": "code",
   "execution_count": 1,
   "metadata": {},
   "outputs": [],
   "source": [
    "import os\n",
    "import sys\n",
    "import pandas as pd\n",
    "import numpy as np\n",
    "import datetime\n",
    "import urllib\n",
    "import requests\n",
    "from sodapy import Socrata\n",
    "import warnings\n",
    "warnings.filterwarnings('ignore')\n",
    "\n",
    "\n",
    "import geopandas as gpd\n",
    "from geopandas.tools import sjoin\n",
    "from fiona.crs import from_epsg\n",
    "import shapely\n",
    "from shapely.geometry import Point, MultiPoint\n",
    "import io\n",
    "\n",
    "from APPTOKEN import myToken \n",
    "## Import your API key as a file named APPTOKEN.py stored as a variable myToken\n",
    "## Or just define your API key as a variable called myToken"
   ]
  },
  {
   "cell_type": "markdown",
   "metadata": {},
   "source": [
    "### Access Data\n",
    "- 311 Complaints dataset on NYC Open Data\n",
    "- NTA Boundary shapefiles, also on NYC Open Data"
   ]
  },
  {
   "cell_type": "code",
   "execution_count": 2,
   "metadata": {},
   "outputs": [],
   "source": [
    "endpoint =  'https://data.cityofnewyork.us/resource/fhrw-4uyv.json'\n",
    "\n",
    "domain = 'data.cityofnewyork.us'\n",
    "data_id = 'fhrw-4uyv'\n",
    "token = myToken\n",
    "client = Socrata(domain, token)"
   ]
  },
  {
   "cell_type": "code",
   "execution_count": 3,
   "metadata": {},
   "outputs": [
    {
     "name": "stdout",
     "output_type": "stream",
     "text": [
      "Number of results downloaded: 5530\n",
      "Number of results downloaded: 5530\n",
      "Number of results downloaded: 5530\n"
     ]
    }
   ],
   "source": [
    "results = []\n",
    "for i in range(3):\n",
    "    query =\"\"\"\n",
    "    select\n",
    "        latitude,\n",
    "        longitude,\n",
    "        agency_name,\n",
    "        complaint_type,\n",
    "        descriptor,\n",
    "        date_extract_hh(created_date),\n",
    "        date_trunc_ymd(created_date) as day\n",
    "    where \n",
    "        created_date >= '2016-11-09T00:00:00.000' and created_date < '2016-11-10T00:00:00.000'\n",
    "    limit\n",
    "        50000\n",
    "    offset\n",
    "        {}\n",
    "    \"\"\".format(i*50000)\n",
    "    results = results + client.get(data_id, query=query)\n",
    "    print(\"Number of results downloaded: {}\".format(len(results)))\n"
   ]
  },
  {
   "cell_type": "code",
   "execution_count": 4,
   "metadata": {},
   "outputs": [],
   "source": [
    "def CoordstoGDF(dataframe):\n",
    "    dataframe['lonlat']=list(zip(dataframe.longitude.astype(float), dataframe.latitude.astype(float)))\n",
    "    dataframe['geometry']=dataframe[['lonlat']].applymap(lambda x:shapely.geometry.Point(x))\n",
    "    crs = {'init':'epsg:4326', 'no_defs': True}\n",
    "    return gpd.GeoDataFrame(dataframe, crs=crs, geometry=dataframe['geometry'])"
   ]
  },
  {
   "cell_type": "code",
   "execution_count": 5,
   "metadata": {},
   "outputs": [],
   "source": [
    "trump311DayAfter = pd.DataFrame(results)\n",
    "trump311DayAfter = CoordstoGDF(trump311DayAfter)"
   ]
  },
  {
   "cell_type": "code",
   "execution_count": 6,
   "metadata": {},
   "outputs": [],
   "source": [
    "NTA = 'https://data.cityofnewyork.us/api/geospatial/d3qk-pfyz?method=export&format=GeoJSON'\n",
    "nta = gpd.read_file(NTA)\n",
    "nta.drop(columns=['ntacode', 'borocode', 'countyfips'], inplace=True)"
   ]
  },
  {
   "cell_type": "code",
   "execution_count": 7,
   "metadata": {},
   "outputs": [],
   "source": [
    "trump311DayAfter = sjoin( nta, trump311DayAfter, how='left')"
   ]
  },
  {
   "cell_type": "code",
   "execution_count": 8,
   "metadata": {},
   "outputs": [],
   "source": [
    "trump311DayAfter.drop(columns=['boroname', 'index_right','day', 'latitude',\n",
    "                                 'longitude', 'lonlat'],\n",
    "                        inplace=True)"
   ]
  },
  {
   "cell_type": "code",
   "execution_count": 9,
   "metadata": {},
   "outputs": [],
   "source": [
    "trump311DayAfter = trump311DayAfter.rename(columns={'date_extract_hh_created_date':'hour'})\n",
    "trump311DayAfter.index.name = 'nta_ind'"
   ]
  },
  {
   "cell_type": "code",
   "execution_count": 10,
   "metadata": {},
   "outputs": [],
   "source": [
    "df = pd.DataFrame(trump311DayAfter.groupby(['nta_ind','hour'])['descriptor'].count())\n",
    "df['nta'] = df.index.map(lambda x: x[0])\n",
    "df['hour'] = df.index.map(lambda x: x[1])\n",
    "df.rename(columns={'descriptor':'hourly_counts'},inplace=True)\n",
    "\n",
    "df2 = pd.DataFrame(trump311DayAfter.groupby(['nta_ind','hour'])['complaint_type'].agg(pd.Series.mode))\n",
    "df = df2.merge(df, on=df.index)"
   ]
  },
  {
   "cell_type": "code",
   "execution_count": 11,
   "metadata": {
    "scrolled": true
   },
   "outputs": [],
   "source": [
    "nta['count'] = 0\n",
    "for a in trump311DayAfter.index.unique():\n",
    "    nta['count'][a] = len(trump311DayAfter[trump311DayAfter.index==a])"
   ]
  },
  {
   "cell_type": "code",
   "execution_count": 12,
   "metadata": {},
   "outputs": [],
   "source": [
    "import numpy\n",
    "nta['mode'] = 0\n",
    "for a in trump311DayAfter.index.unique():\n",
    "    complaintType = trump311DayAfter.groupby('nta_ind')['complaint_type'].agg(pd.Series.mode)[a]\n",
    "    if len(complaintType) == 0:\n",
    "        continue\n",
    "    if type(complaintType) == numpy.ndarray:\n",
    "        nta['mode'][a]= complaintType[0]\n",
    "    else:\n",
    "        nta['mode'][a] = complaintType\n"
   ]
  },
  {
   "cell_type": "code",
   "execution_count": 13,
   "metadata": {},
   "outputs": [],
   "source": [
    "nta = nta.merge(df, left_on=nta.index, right_on='nta')\n",
    "nta.drop(columns=['nta', 'key_0'], inplace=True)"
   ]
  },
  {
   "cell_type": "code",
   "execution_count": 15,
   "metadata": {},
   "outputs": [],
   "source": [
    "def simplifyArrays(x):\n",
    "    import numpy\n",
    "    if type(x) == numpy.ndarray:\n",
    "        return x[0]\n",
    "    else:\n",
    "        return x"
   ]
  },
  {
   "cell_type": "code",
   "execution_count": 16,
   "metadata": {},
   "outputs": [],
   "source": [
    "nta['complaint_type'] = nta['complaint_type'].map(simplifyArrays)\n"
   ]
  },
  {
   "cell_type": "code",
   "execution_count": 18,
   "metadata": {},
   "outputs": [],
   "source": [
    "nta.to_file(\"trump_Elec_DayAfter.geojson\", driver='GeoJSON')\n"
   ]
  },
  {
   "cell_type": "code",
   "execution_count": null,
   "metadata": {},
   "outputs": [],
   "source": []
  }
 ],
 "metadata": {
  "kernelspec": {
   "display_name": "Python 3",
   "language": "python",
   "name": "python3"
  },
  "language_info": {
   "codemirror_mode": {
    "name": "ipython",
    "version": 3
   },
   "file_extension": ".py",
   "mimetype": "text/x-python",
   "name": "python",
   "nbconvert_exporter": "python",
   "pygments_lexer": "ipython3",
   "version": "3.6.5"
  }
 },
 "nbformat": 4,
 "nbformat_minor": 2
}
